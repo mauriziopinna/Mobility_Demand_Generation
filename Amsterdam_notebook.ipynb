{
 "cells": [
  {
   "cell_type": "code",
   "execution_count": 2,
   "id": "premier-treasurer",
   "metadata": {},
   "outputs": [],
   "source": [
    "# In order to make this script working is necessary \n",
    "# to have installed the python packages listed below.\n",
    "# In particular for awkde is possible to insall it with:\n",
    "\n",
    "# git clone https://github.com/mennthor/awkde\n",
    "# pip install [--user] [-e] ./awkde\n",
    "\n",
    "# For more details please consult awkde github page at: https://github.com/mennthor/awkde"
   ]
  },
  {
   "cell_type": "code",
   "execution_count": 7,
   "id": "billion-corps",
   "metadata": {},
   "outputs": [],
   "source": [
    "# Please notice: the dataset attached to this script consist only a subset of the entire dataset. In\n",
    "# particular the first six months of 2017, for weekday 23 time slot.\n",
    "\n",
    "#Also, on this dataset for the seek of brevity are already applied but not reported\n",
    "# all the preprocessing steps including temporal and spatial one, in order to obtain data\n",
    "# ready to be fitted by the model"
   ]
  },
  {
   "cell_type": "code",
   "execution_count": 5,
   "id": "rising-garbage",
   "metadata": {},
   "outputs": [],
   "source": [
    "import pandas as pd\n",
    "import geopandas as gpd\n",
    "import numpy as np\n",
    "from sklearn.neighbors import KernelDensity\n",
    "from sklearn.model_selection import GridSearchCV\n",
    "from awkde import GaussianKDE"
   ]
  },
  {
   "cell_type": "code",
   "execution_count": 6,
   "id": "brave-ideal",
   "metadata": {},
   "outputs": [],
   "source": [
    "dataset = pd.read_csv('Amsterdam_dataset_WE23.csv')"
   ]
  },
  {
   "cell_type": "code",
   "execution_count": 11,
   "id": "enclosed-switch",
   "metadata": {},
   "outputs": [],
   "source": [
    "# eventhough also WGS84 coordinate system is available, UTM ones are preferred\n",
    "# because it's the best choice to use default euclidean metric distance for GridSearchCV"
   ]
  },
  {
   "cell_type": "code",
   "execution_count": 21,
   "id": "noticed-ocean",
   "metadata": {},
   "outputs": [],
   "source": [
    "kde_columns_utm_2d = ['start_longitude_utm', 'start_latitude_utm']\n",
    "#start longitude and latitude are used for 2 dimensional KDE\n",
    "#it's also possible to use end point(final destination)\n",
    "# kde_columns_utm_2d = ['end_longitude_utm', 'end_latitude_utm']\n",
    "kde_columns_utm_4d = ['start_longitude_utm', 'start_latitude_utm', 'end_longitude_utm', 'end_latitude_utm']\n",
    "bandwidths_utm = np.concatenate((np.linspace(0.5,100, 50), np.geomspace(100, 10000, 50)))"
   ]
  },
  {
   "cell_type": "code",
   "execution_count": 23,
   "id": "unusual-compound",
   "metadata": {},
   "outputs": [],
   "source": [
    "#optimal fixed bandwidth reaserarch in two dimensional space\n",
    "grid_search_fixedKDE_2D =  GridSearchCV(KernelDensity(kernel='gaussian'),\n",
    "                                    {'bandwidth': bandwidths_utm}, cv=10, n_jobs=-1).fit(dataset[kde_columns_utm_2d].dropna())"
   ]
  },
  {
   "cell_type": "code",
   "execution_count": 24,
   "id": "documentary-cincinnati",
   "metadata": {},
   "outputs": [],
   "source": [
    "log_likelihood_results_fixedKDE_2D = pd.DataFrame(grid_search_fixedKDE_2D.cv_results_['params'])\n",
    "log_likelihood_results_fixedKDE_2D['mean_likelihood_score'] = grid_search_fixedKDE_2D.cv_results_['mean_test_score']"
   ]
  },
  {
   "cell_type": "code",
   "execution_count": 34,
   "id": "constant-population",
   "metadata": {},
   "outputs": [],
   "source": [
    "#it's now possible to fit a 2D fixed KDE with the optimal bandwidth\n",
    "fixedKDE_2D = KernelDensity(kernel='gaussian',bandwidth=grid_search_fixedKDE_2D.best_params_['bandwidth']).fit(\n",
    "    dataset[kde_columns_utm_2d])"
   ]
  },
  {
   "cell_type": "code",
   "execution_count": 25,
   "id": "desirable-bidding",
   "metadata": {},
   "outputs": [],
   "source": [
    "#optimal fixed bandwidth reaserarch in four dimensional space\n",
    "grid_search_fixedKDE_4D = GridSearchCV(KernelDensity(kernel='gaussian'),\n",
    "                                    {'bandwidth': bandwidths_utm}, cv=10, n_jobs=-1).fit(dataset[kde_columns_utm_4d].dropna())"
   ]
  },
  {
   "cell_type": "code",
   "execution_count": 26,
   "id": "explicit-mercury",
   "metadata": {},
   "outputs": [],
   "source": [
    "log_likelihood_results_fixedKDE_4D = pd.DataFrame(grid_search_fixedKDE_4D.cv_results_['params'])\n",
    "log_likelihood_results_fixedKDE_4D['mean_likelihood_score'] = grid_search_fixedKDE_4D.cv_results_['mean_test_score']"
   ]
  },
  {
   "cell_type": "code",
   "execution_count": 35,
   "id": "solid-aside",
   "metadata": {},
   "outputs": [],
   "source": [
    "#it's now possible to fit a 4D fixed KDE with the optimal bandwidth\n",
    "fixedKDE_4D = KernelDensity(kernel='gaussian',bandwidth=grid_search_fixedKDE_4D.best_params_['bandwidth']).fit(\n",
    "    dataset[kde_columns_utm_4d])"
   ]
  },
  {
   "cell_type": "code",
   "execution_count": 27,
   "id": "auburn-scratch",
   "metadata": {},
   "outputs": [],
   "source": [
    "######################################################################\n",
    "#                  VARIABLE BANDWIDTH (ADAPTIVE) KDE                 #\n",
    "######################################################################"
   ]
  },
  {
   "cell_type": "code",
   "execution_count": 29,
   "id": "least-tuning",
   "metadata": {},
   "outputs": [],
   "source": [
    "# since the AwKDE package applies a transformation on the input data\n",
    "# in order to return a sample space with zero mean vector an\n",
    "# identity covariance matrix. As also the bandwidth has to be scaled\n",
    "# therefore for the global_bw research we start from the optimal founded with\n",
    "# scikit-learn library and divide it for the sample's average standard deviation in\n",
    "#diffent dimensions."
   ]
  },
  {
   "cell_type": "code",
   "execution_count": 28,
   "id": "suspected-cooling",
   "metadata": {},
   "outputs": [],
   "source": [
    "average_std = np.sqrt(np.sum([np.power(dataset['start_longitude_utm'].std(),2),\n",
    "                              np.power(dataset['start_latitude_utm'].std(),2)])/2)"
   ]
  },
  {
   "cell_type": "code",
   "execution_count": 31,
   "id": "chinese-deployment",
   "metadata": {},
   "outputs": [],
   "source": [
    "global_bw_std = grid_search_fixedKDE_2D.best_params_['bandwidth']/average_std\n",
    "global_bw_ranges = np.concatenate((\n",
    "                    np.linspace(global_bw_std/5, global_bw_std*5, 90),\n",
    "                    np.geomspace(global_bw_std*5, 10, 10)\n",
    "                        ))"
   ]
  },
  {
   "cell_type": "code",
   "execution_count": 36,
   "id": "martial-hayes",
   "metadata": {},
   "outputs": [],
   "source": [
    "#it's possible to find the optimal global bandwidth with AwKDE and then fit a VKDE\n",
    "# with alpha=0.5 according to Silverman/Abramson Law"
   ]
  },
  {
   "cell_type": "code",
   "execution_count": 45,
   "id": "cultural-latex",
   "metadata": {},
   "outputs": [],
   "source": [
    "grid_search_2D_VKDE_alphaNone = GridSearchCV(GaussianKDE(diag_cov=False, alpha=None),\n",
    "                                                        {'glob_bw': global_bw_ranges},\n",
    "                                                      cv=10, n_jobs=-1).fit(dataset[kde_columns_utm_2d].dropna())"
   ]
  },
  {
   "cell_type": "code",
   "execution_count": 46,
   "id": "adverse-intersection",
   "metadata": {},
   "outputs": [
    {
     "data": {
      "text/plain": [
       "(start_longitude_utm    121303.331469\n",
       " start_latitude_utm     486393.683503\n",
       " dtype: float64,\n",
       " array([[4656834.09117353, -961766.58112438],\n",
       "        [-961766.58112438, 3665726.16457077]]))"
      ]
     },
     "execution_count": 46,
     "metadata": {},
     "output_type": "execute_result"
    }
   ],
   "source": [
    "VKDE_2D_alpha05 = GaussianKDE(alpha=0.5, \n",
    "                              glob_bw=grid_search_2D_VKDE_alphaNone.best_params_['glob_bw'])\n",
    "VKDE_2D_alpha05.fit(dataset[kde_columns_utm_2d])"
   ]
  },
  {
   "cell_type": "code",
   "execution_count": 39,
   "id": "occupied-chorus",
   "metadata": {},
   "outputs": [],
   "source": [
    "# or instead is possible to perform a cross validation  \n",
    "# with both glob_bw and alpha hyperparamters"
   ]
  },
  {
   "cell_type": "code",
   "execution_count": 47,
   "id": "christian-nevada",
   "metadata": {},
   "outputs": [],
   "source": [
    "grid_search_2D_VKDE = GridSearchCV(GaussianKDE(diag_cov=False),\n",
    "                                                        {'glob_bw': global_bw_ranges,\n",
    "                                                        'alpha':[None, 0.1, 0.2,0.3,0.4,0.5,0.6,0.7,0.8,0.9]},\n",
    "                                                      cv=10, n_jobs=-1).fit(dataset[kde_columns_utm_2d].dropna())"
   ]
  },
  {
   "cell_type": "code",
   "execution_count": 48,
   "id": "invalid-universe",
   "metadata": {},
   "outputs": [
    {
     "data": {
      "text/plain": [
       "(start_longitude_utm    121303.331469\n",
       " start_latitude_utm     486393.683503\n",
       " dtype: float64,\n",
       " array([[4656834.09117353, -961766.58112438],\n",
       "        [-961766.58112438, 3665726.16457077]]))"
      ]
     },
     "execution_count": 48,
     "metadata": {},
     "output_type": "execute_result"
    }
   ],
   "source": [
    "VKDE_2D = GaussianKDE(alpha=grid_search_2D_VKDE.best_params_['alpha'], \n",
    "                      glob_bw=grid_search_2D_VKDE.best_params_['glob_bw'])\n",
    "VKDE_2D.fit(dataset[kde_columns_utm_2d])"
   ]
  },
  {
   "cell_type": "code",
   "execution_count": 44,
   "id": "careful-murray",
   "metadata": {},
   "outputs": [],
   "source": [
    "#################################################\n",
    "#the same can be replicated in four dimensions\n",
    "#################################################"
   ]
  },
  {
   "cell_type": "code",
   "execution_count": 51,
   "id": "heard-webcam",
   "metadata": {},
   "outputs": [
    {
     "name": "stderr",
     "output_type": "stream",
     "text": [
      "/opt/anaconda3/envs/bigdatalab_cpu_202101/lib/python3.7/site-packages/sklearn/model_selection/_search.py:814: RuntimeWarning: invalid value encountered in subtract\n",
      "  array_means[:, np.newaxis]) ** 2,\n"
     ]
    }
   ],
   "source": [
    "grid_search_4D_VKDE_alphaNone = GridSearchCV(GaussianKDE(diag_cov=False, alpha=None),\n",
    "                                                        {'glob_bw': global_bw_ranges},\n",
    "                                                      cv=10, n_jobs=-1).fit(dataset[kde_columns_utm_4d].dropna())"
   ]
  },
  {
   "cell_type": "code",
   "execution_count": 52,
   "id": "distributed-protocol",
   "metadata": {},
   "outputs": [
    {
     "data": {
      "text/plain": [
       "(start_longitude_utm    121303.331469\n",
       " start_latitude_utm     486393.683503\n",
       " end_longitude_utm      121734.844101\n",
       " end_latitude_utm       486103.000174\n",
       " dtype: float64,\n",
       " array([[4656834.09117353, -961766.58112438, 1325613.14115149,\n",
       "         -298552.87996605],\n",
       "        [-961766.58112438, 3665726.16457077, -243796.73036927,\n",
       "          555690.24327406],\n",
       "        [1325613.14115149, -243796.73036927, 8547872.86124695,\n",
       "         -991202.28692073],\n",
       "        [-298552.87996605,  555690.24327406, -991202.28692073,\n",
       "         5417474.50794197]]))"
      ]
     },
     "execution_count": 52,
     "metadata": {},
     "output_type": "execute_result"
    }
   ],
   "source": [
    "VKDE_4D_alpha05 = GaussianKDE(alpha=0.5, \n",
    "                              glob_bw=grid_search_4D_VKDE_alphaNone.best_params_['glob_bw'])\n",
    "VKDE_4D_alpha05.fit(dataset[kde_columns_utm_4d])"
   ]
  },
  {
   "cell_type": "code",
   "execution_count": 53,
   "id": "corporate-course",
   "metadata": {},
   "outputs": [
    {
     "name": "stderr",
     "output_type": "stream",
     "text": [
      "/opt/anaconda3/envs/bigdatalab_cpu_202101/lib/python3.7/site-packages/sklearn/model_selection/_search.py:814: RuntimeWarning: invalid value encountered in subtract\n",
      "  array_means[:, np.newaxis]) ** 2,\n"
     ]
    }
   ],
   "source": [
    "grid_search_4D_VKDE = GridSearchCV(GaussianKDE(diag_cov=False),\n",
    "                                                        {'glob_bw': global_bw_ranges,\n",
    "                                                        'alpha':[None, 0.1, 0.2,0.3,0.4,0.5,0.6,0.7,0.8,0.9]},\n",
    "                                                      cv=10, n_jobs=-1).fit(dataset[kde_columns_utm_4d].dropna())"
   ]
  },
  {
   "cell_type": "code",
   "execution_count": 54,
   "id": "apparent-graphics",
   "metadata": {},
   "outputs": [
    {
     "data": {
      "text/plain": [
       "(start_longitude_utm    121303.331469\n",
       " start_latitude_utm     486393.683503\n",
       " end_longitude_utm      121734.844101\n",
       " end_latitude_utm       486103.000174\n",
       " dtype: float64,\n",
       " array([[4656834.09117353, -961766.58112438, 1325613.14115149,\n",
       "         -298552.87996605],\n",
       "        [-961766.58112438, 3665726.16457077, -243796.73036927,\n",
       "          555690.24327406],\n",
       "        [1325613.14115149, -243796.73036927, 8547872.86124695,\n",
       "         -991202.28692073],\n",
       "        [-298552.87996605,  555690.24327406, -991202.28692073,\n",
       "         5417474.50794197]]))"
      ]
     },
     "execution_count": 54,
     "metadata": {},
     "output_type": "execute_result"
    }
   ],
   "source": [
    "VKDE_4D = GaussianKDE(alpha=grid_search_4D_VKDE.best_params_['alpha'], \n",
    "                      glob_bw=grid_search_4D_VKDE.best_params_['glob_bw'])\n",
    "VKDE_4D.fit(dataset[kde_columns_utm_4d])"
   ]
  }
 ],
 "metadata": {
  "kernelspec": {
   "display_name": "Python 3",
   "language": "python",
   "name": "python3"
  },
  "language_info": {
   "codemirror_mode": {
    "name": "ipython",
    "version": 3
   },
   "file_extension": ".py",
   "mimetype": "text/x-python",
   "name": "python",
   "nbconvert_exporter": "python",
   "pygments_lexer": "ipython3",
   "version": "3.7.9"
  }
 },
 "nbformat": 4,
 "nbformat_minor": 5
}
