{
 "cells": [
  {
   "cell_type": "code",
   "execution_count": 1,
   "id": "solar-arbitration",
   "metadata": {},
   "outputs": [],
   "source": [
    "# In order to make this script working is necessary \n",
    "# to have installed the python packages listed below.\n",
    "# In particular for awkde is possible to insall it with:\n",
    "\n",
    "# git clone https://github.com/mennthor/awkde\n",
    "# pip install [--user] [-e] ./awkde\n",
    "\n",
    "# For more details please consult awkde github page at: https://github.com/mennthor/awkde"
   ]
  },
  {
   "cell_type": "code",
   "execution_count": 2,
   "id": "gothic-globe",
   "metadata": {},
   "outputs": [],
   "source": [
    "# Please notice: the dataset attached to this script consist only a subset of the entire dataset. \n",
    "# In particular, weekday 23 time slot.\n",
    "\n",
    "#Also, on this dataset for the seek of brevity are already applied but not reported\n",
    "# all the preprocessing steps including temporal and spatial one, in order to obtain data\n",
    "# ready to be fitted by the model"
   ]
  },
  {
   "cell_type": "code",
   "execution_count": 3,
   "id": "cultural-syndication",
   "metadata": {},
   "outputs": [],
   "source": [
    "import pandas as pd\n",
    "import geopandas as gpd\n",
    "import numpy as np\n",
    "from sklearn.neighbors import KernelDensity\n",
    "from sklearn.model_selection import GridSearchCV\n",
    "from awkde import GaussianKDE"
   ]
  },
  {
   "cell_type": "code",
   "execution_count": 4,
   "id": "harmful-configuration",
   "metadata": {},
   "outputs": [],
   "source": [
    "dataset = pd.read_csv('Amsterdam_dataset_WE23.csv')"
   ]
  },
  {
   "cell_type": "code",
   "execution_count": 5,
   "id": "referenced-spectacular",
   "metadata": {},
   "outputs": [],
   "source": [
    "# eventhough also WGS84 coordinate system is available, UTM ones are preferred\n",
    "# because it's the best choice to use default euclidean metric distance for GridSearchCV"
   ]
  },
  {
   "cell_type": "code",
   "execution_count": 6,
   "id": "liable-washer",
   "metadata": {},
   "outputs": [],
   "source": [
    "kde_columns_utm_2d = ['start_longitude_utm', 'start_latitude_utm']\n",
    "#start longitude and latitude are used for 2 dimensional KDE\n",
    "#it's also possible to use end point(final destination)\n",
    "# kde_columns_utm_2d = ['end_longitude_utm', 'end_latitude_utm']\n",
    "kde_columns_utm_4d = ['start_longitude_utm', 'start_latitude_utm', 'end_longitude_utm', 'end_latitude_utm']\n",
    "bandwidths_utm = np.geomspace(0.5, 10000, 100)"
   ]
  },
  {
   "cell_type": "code",
   "execution_count": 7,
   "id": "adapted-alabama",
   "metadata": {},
   "outputs": [],
   "source": [
    "#optimal fixed bandwidth reaserarch in two dimensional space\n",
    "for i in range(2):\n",
    "    if i==0:\n",
    "        grid_search_fixedKDE_2D =  GridSearchCV(KernelDensity(kernel='gaussian'),\n",
    "                                    {'bandwidth': bandwidths_utm}, cv=10, n_jobs=-1).fit(dataset[kde_columns_utm_2d].dropna())\n",
    "        log_likelihood_results_fixedKDE_2D = pd.DataFrame(grid_search_fixedKDE_2D.cv_results_['params'])\n",
    "        log_likelihood_results_fixedKDE_2D['mean_likelihood_score'] = grid_search_fixedKDE_2D.cv_results_['mean_test_score']\n",
    "        best_bw = grid_search_fixedKDE_2D.best_params_['bandwidth']\n",
    "    else:\n",
    "        grid_search_fixedKDE_2D =  GridSearchCV(KernelDensity(kernel='gaussian'),\n",
    "                                    {'bandwidth': np.linspace(best_bw/2, best_bw*1.5, 50)}, cv=10, n_jobs=-1).fit(dataset[kde_columns_utm_2d].dropna())"
   ]
  },
  {
   "cell_type": "code",
   "execution_count": 8,
   "id": "historic-sarah",
   "metadata": {},
   "outputs": [
    {
     "data": {
      "text/plain": [
       "67.94722855767006"
      ]
     },
     "execution_count": 8,
     "metadata": {},
     "output_type": "execute_result"
    }
   ],
   "source": [
    "grid_search_fixedKDE_2D.best_params_['bandwidth']"
   ]
  },
  {
   "cell_type": "code",
   "execution_count": 9,
   "id": "approximate-clone",
   "metadata": {},
   "outputs": [],
   "source": [
    "#it's now possible to fit a 2D fixed KDE with the optimal bandwidth\n",
    "fixedKDE_2D = KernelDensity(kernel='gaussian',bandwidth=grid_search_fixedKDE_2D.best_params_['bandwidth']).fit(\n",
    "    dataset[kde_columns_utm_2d])"
   ]
  },
  {
   "cell_type": "code",
   "execution_count": 10,
   "id": "greenhouse-perth",
   "metadata": {},
   "outputs": [],
   "source": [
    "#optimal fixed bandwidth reaserarch in four dimensional space\n",
    "for i in range(2):\n",
    "    if i==0:\n",
    "        grid_search_fixedKDE_4D =  GridSearchCV(KernelDensity(kernel='gaussian'),\n",
    "                                    {'bandwidth': bandwidths_utm}, cv=10, n_jobs=-1).fit(dataset[kde_columns_utm_4d].dropna())\n",
    "        log_likelihood_results_fixedKDE_4D = pd.DataFrame(grid_search_fixedKDE_4D.cv_results_['params'])\n",
    "        log_likelihood_results_fixedKDE_4D['mean_likelihood_score'] = grid_search_fixedKDE_4D.cv_results_['mean_test_score']\n",
    "        best_bw = grid_search_fixedKDE_4D.best_params_['bandwidth']\n",
    "    else:\n",
    "        grid_search_fixedKDE_4D =  GridSearchCV(KernelDensity(kernel='gaussian'),\n",
    "                                    {'bandwidth': np.linspace(best_bw/2, best_bw*1.5, 50)}, cv=10, n_jobs=-1).fit(dataset[kde_columns_utm_4d].dropna())"
   ]
  },
  {
   "cell_type": "code",
   "execution_count": 11,
   "id": "liked-julian",
   "metadata": {},
   "outputs": [],
   "source": [
    "#it's now possible to fit a 4D fixed KDE with the optimal bandwidth\n",
    "fixedKDE_4D = KernelDensity(kernel='gaussian',bandwidth=grid_search_fixedKDE_4D.best_params_['bandwidth']).fit(\n",
    "    dataset[kde_columns_utm_4d])"
   ]
  },
  {
   "cell_type": "code",
   "execution_count": 12,
   "id": "changed-english",
   "metadata": {},
   "outputs": [],
   "source": [
    "######################################################################\n",
    "#                  VARIABLE BANDWIDTH (ADAPTIVE) KDE                 #\n",
    "######################################################################"
   ]
  },
  {
   "cell_type": "code",
   "execution_count": 13,
   "id": "satisfactory-correction",
   "metadata": {},
   "outputs": [],
   "source": [
    "# since the AwKDE package applies a transformation on the input data\n",
    "# in order to return a sample space with zero mean vector an\n",
    "# identity covariance matrix. As also the bandwidth has to be scaled\n",
    "# therefore for the global_bw research we start from the optimal founded with\n",
    "# scikit-learn library and divide it for the sample's average standard deviation in\n",
    "#diffent dimensions."
   ]
  },
  {
   "cell_type": "code",
   "execution_count": 14,
   "id": "limiting-lecture",
   "metadata": {},
   "outputs": [],
   "source": [
    "average_std = np.sqrt(np.sum([np.power(dataset['start_longitude_utm'].std(),2),\n",
    "                              np.power(dataset['start_latitude_utm'].std(),2)])/2)"
   ]
  },
  {
   "cell_type": "code",
   "execution_count": 15,
   "id": "expired-lewis",
   "metadata": {},
   "outputs": [],
   "source": [
    "global_bw_std = grid_search_fixedKDE_2D.best_params_['bandwidth']/average_std\n",
    "global_bw_ranges = np.linspace(global_bw_std/2, global_bw_std*2, 100)"
   ]
  },
  {
   "cell_type": "code",
   "execution_count": 16,
   "id": "million-wealth",
   "metadata": {},
   "outputs": [],
   "source": [
    "#it's possible to find the optimal global_bw with alpha=0.5 according \n",
    "# to silverman law"
   ]
  },
  {
   "cell_type": "code",
   "execution_count": 17,
   "id": "careful-ecology",
   "metadata": {},
   "outputs": [],
   "source": [
    "grid_search_2D_VKDE_alpha05 = GridSearchCV(GaussianKDE(diag_cov=False, alpha=0.5),\n",
    "                                                        {'glob_bw': global_bw_ranges},\n",
    "                                                      cv=10, n_jobs=-1).fit(dataset[kde_columns_utm_2d].dropna())"
   ]
  },
  {
   "cell_type": "code",
   "execution_count": 18,
   "id": "skilled-corporation",
   "metadata": {},
   "outputs": [
    {
     "data": {
      "text/plain": [
       "(start_longitude_utm    121310.459773\n",
       " start_latitude_utm     486298.299518\n",
       " dtype: float64,\n",
       " array([[4601772.08638535, -912501.53547977],\n",
       "        [-912501.53547977, 3560398.75234897]]))"
      ]
     },
     "execution_count": 18,
     "metadata": {},
     "output_type": "execute_result"
    }
   ],
   "source": [
    "VKDE_2D_alpha05 = GaussianKDE(alpha=0.5, \n",
    "                              glob_bw=grid_search_2D_VKDE_alpha05.best_params_['glob_bw'])\n",
    "VKDE_2D_alpha05.fit(dataset[kde_columns_utm_2d])"
   ]
  },
  {
   "cell_type": "code",
   "execution_count": 19,
   "id": "fewer-toronto",
   "metadata": {},
   "outputs": [],
   "source": [
    "# or instead is possible to perform a cross validation  \n",
    "# with both glob_bw and alpha hyperparamters"
   ]
  },
  {
   "cell_type": "code",
   "execution_count": 20,
   "id": "placed-mining",
   "metadata": {},
   "outputs": [],
   "source": [
    "grid_search_2D_VKDE = GridSearchCV(GaussianKDE(diag_cov=False),\n",
    "                                                        {'glob_bw': global_bw_ranges,\n",
    "                                                        'alpha':[None, 0.1, 0.2,0.3,0.4,0.5,0.6,0.7,0.8,0.9]},\n",
    "                                                      cv=10, n_jobs=-1).fit(dataset[kde_columns_utm_2d].dropna())"
   ]
  },
  {
   "cell_type": "code",
   "execution_count": 21,
   "id": "weekly-jacob",
   "metadata": {},
   "outputs": [
    {
     "data": {
      "text/plain": [
       "(start_longitude_utm    121310.459773\n",
       " start_latitude_utm     486298.299518\n",
       " dtype: float64,\n",
       " array([[4601772.08638535, -912501.53547977],\n",
       "        [-912501.53547977, 3560398.75234897]]))"
      ]
     },
     "execution_count": 21,
     "metadata": {},
     "output_type": "execute_result"
    }
   ],
   "source": [
    "VKDE_2D = GaussianKDE(alpha=grid_search_2D_VKDE.best_params_['alpha'], \n",
    "                      glob_bw=grid_search_2D_VKDE.best_params_['glob_bw'])\n",
    "VKDE_2D.fit(dataset[kde_columns_utm_2d])"
   ]
  },
  {
   "cell_type": "code",
   "execution_count": 22,
   "id": "subjective-forestry",
   "metadata": {},
   "outputs": [],
   "source": [
    "#################################################\n",
    "#the same can be replicated in four dimensions\n",
    "#################################################"
   ]
  },
  {
   "cell_type": "code",
   "execution_count": 23,
   "id": "chief-tuesday",
   "metadata": {},
   "outputs": [
    {
     "name": "stderr",
     "output_type": "stream",
     "text": [
      "/opt/anaconda3/envs/bigdatalab_cpu_202101/lib/python3.7/site-packages/sklearn/model_selection/_search.py:814: RuntimeWarning: invalid value encountered in subtract\n",
      "  array_means[:, np.newaxis]) ** 2,\n"
     ]
    }
   ],
   "source": [
    "grid_search_4D_VKDE_alpha05 = GridSearchCV(GaussianKDE(diag_cov=False, alpha=0.5),\n",
    "                                                        {'glob_bw': global_bw_ranges},\n",
    "                                                      cv=10, n_jobs=-1).fit(dataset[kde_columns_utm_4d].dropna())"
   ]
  },
  {
   "cell_type": "code",
   "execution_count": 24,
   "id": "accredited-breast",
   "metadata": {},
   "outputs": [
    {
     "data": {
      "text/plain": [
       "(start_longitude_utm    121310.459773\n",
       " start_latitude_utm     486298.299518\n",
       " end_longitude_utm      121678.332133\n",
       " end_latitude_utm       486020.938639\n",
       " dtype: float64,\n",
       " array([[ 4601772.08638535,  -912501.53547977,  1243546.4445405 ,\n",
       "          -310127.68386297],\n",
       "        [ -912501.53547977,  3560398.75234897,   -91418.51580534,\n",
       "           449124.3267851 ],\n",
       "        [ 1243546.4445405 ,   -91418.51580534,  9048605.42453936,\n",
       "         -1425545.88456961],\n",
       "        [ -310127.68386297,   449124.3267851 , -1425545.88456961,\n",
       "          5391501.0963258 ]]))"
      ]
     },
     "execution_count": 24,
     "metadata": {},
     "output_type": "execute_result"
    }
   ],
   "source": [
    "VKDE_4D_alpha05 = GaussianKDE(alpha=0.5, \n",
    "                              glob_bw=grid_search_4D_VKDE_alpha05.best_params_['glob_bw'])\n",
    "VKDE_4D_alpha05.fit(dataset[kde_columns_utm_4d])"
   ]
  },
  {
   "cell_type": "code",
   "execution_count": 25,
   "id": "boolean-alfred",
   "metadata": {},
   "outputs": [
    {
     "name": "stderr",
     "output_type": "stream",
     "text": [
      "/opt/anaconda3/envs/bigdatalab_cpu_202101/lib/python3.7/site-packages/sklearn/model_selection/_search.py:814: RuntimeWarning: invalid value encountered in subtract\n",
      "  array_means[:, np.newaxis]) ** 2,\n"
     ]
    }
   ],
   "source": [
    "grid_search_4D_VKDE = GridSearchCV(GaussianKDE(diag_cov=False),\n",
    "                                                        {'glob_bw': global_bw_ranges,\n",
    "                                                        'alpha':[None, 0.1, 0.2,0.3,0.4,0.5,0.6,0.7,0.8,0.9]},\n",
    "                                                      cv=10, n_jobs=-1).fit(dataset[kde_columns_utm_4d].dropna())"
   ]
  },
  {
   "cell_type": "code",
   "execution_count": 26,
   "id": "headed-context",
   "metadata": {},
   "outputs": [
    {
     "data": {
      "text/plain": [
       "(start_longitude_utm    121310.459773\n",
       " start_latitude_utm     486298.299518\n",
       " end_longitude_utm      121678.332133\n",
       " end_latitude_utm       486020.938639\n",
       " dtype: float64,\n",
       " array([[ 4601772.08638535,  -912501.53547977,  1243546.4445405 ,\n",
       "          -310127.68386297],\n",
       "        [ -912501.53547977,  3560398.75234897,   -91418.51580534,\n",
       "           449124.3267851 ],\n",
       "        [ 1243546.4445405 ,   -91418.51580534,  9048605.42453936,\n",
       "         -1425545.88456961],\n",
       "        [ -310127.68386297,   449124.3267851 , -1425545.88456961,\n",
       "          5391501.0963258 ]]))"
      ]
     },
     "execution_count": 26,
     "metadata": {},
     "output_type": "execute_result"
    }
   ],
   "source": [
    "VKDE_4D = GaussianKDE(alpha=grid_search_4D_VKDE.best_params_['alpha'], \n",
    "                      glob_bw=grid_search_4D_VKDE.best_params_['glob_bw'])\n",
    "VKDE_4D.fit(dataset[kde_columns_utm_4d])"
   ]
  }
 ],
 "metadata": {
  "kernelspec": {
   "display_name": "Python 3",
   "language": "python",
   "name": "python3"
  },
  "language_info": {
   "codemirror_mode": {
    "name": "ipython",
    "version": 3
   },
   "file_extension": ".py",
   "mimetype": "text/x-python",
   "name": "python",
   "nbconvert_exporter": "python",
   "pygments_lexer": "ipython3",
   "version": "3.7.9"
  }
 },
 "nbformat": 4,
 "nbformat_minor": 5
}
